{
 "cells": [
  {
   "cell_type": "code",
   "execution_count": 1,
   "id": "36d682a7",
   "metadata": {},
   "outputs": [],
   "source": [
    "import findspark"
   ]
  },
  {
   "cell_type": "code",
   "execution_count": 2,
   "id": "f45675fc",
   "metadata": {},
   "outputs": [],
   "source": [
    "findspark.init()"
   ]
  },
  {
   "cell_type": "code",
   "execution_count": 3,
   "id": "fdba2376",
   "metadata": {},
   "outputs": [
    {
     "name": "stderr",
     "output_type": "stream",
     "text": [
      "Setting default log level to \"WARN\".\n",
      "To adjust logging level use sc.setLogLevel(newLevel). For SparkR, use setLogLevel(newLevel).\n",
      "23/09/22 08:15:12 WARN NativeCodeLoader: Unable to load native-hadoop library for your platform... using builtin-java classes where applicable\n"
     ]
    }
   ],
   "source": [
    "from pyspark.sql import SparkSession\n",
    "\n",
    "spark=SparkSession.builder.appName(\"WordCount\").getOrCreate()"
   ]
  },
  {
   "cell_type": "code",
   "execution_count": 4,
   "id": "ff934dde",
   "metadata": {},
   "outputs": [],
   "source": [
    "sc=spark.sparkContext"
   ]
  },
  {
   "cell_type": "code",
   "execution_count": 5,
   "id": "f18bf6f4",
   "metadata": {},
   "outputs": [],
   "source": [
    "rdd=sc.parallelize([1,2,3,4,5])"
   ]
  },
  {
   "cell_type": "code",
   "execution_count": 6,
   "id": "87e4dfcd",
   "metadata": {},
   "outputs": [
    {
     "name": "stderr",
     "output_type": "stream",
     "text": [
      "                                                                                \r"
     ]
    },
    {
     "data": {
      "text/plain": [
       "[2, 4, 6, 8, 10]"
      ]
     },
     "execution_count": 6,
     "metadata": {},
     "output_type": "execute_result"
    }
   ],
   "source": [
    "resultrdd=rdd.map(lambda x:x*2)\n",
    "resultrdd.collect()"
   ]
  },
  {
   "cell_type": "code",
   "execution_count": 7,
   "id": "abd412ff",
   "metadata": {},
   "outputs": [
    {
     "data": {
      "text/plain": [
       "[1, 2, 2, 4, 3, 6, 4, 8, 5, 10]"
      ]
     },
     "execution_count": 7,
     "metadata": {},
     "output_type": "execute_result"
    }
   ],
   "source": [
    "resultrdd1=rdd.flatMap(lambda x:(x,x*2))\n",
    "resultrdd1.collect()"
   ]
  },
  {
   "cell_type": "code",
   "execution_count": 8,
   "id": "c9af93f0",
   "metadata": {},
   "outputs": [
    {
     "data": {
      "text/plain": [
       "[2, 4]"
      ]
     },
     "execution_count": 8,
     "metadata": {},
     "output_type": "execute_result"
    }
   ],
   "source": [
    "resultrdd2=rdd.filter(lambda x:x % 2==0)\n",
    "resultrdd2.collect()"
   ]
  },
  {
   "cell_type": "code",
   "execution_count": 9,
   "id": "6c0c7daa",
   "metadata": {},
   "outputs": [
    {
     "data": {
      "text/plain": [
       "[(1, 2), (2, 4), (3, 6), (4, 8), (5, 10)]"
      ]
     },
     "execution_count": 9,
     "metadata": {},
     "output_type": "execute_result"
    }
   ],
   "source": [
    "resultrdd3=rdd.map(lambda x:(x,x*2))\n",
    "resultrdd3.collect()"
   ]
  },
  {
   "cell_type": "code",
   "execution_count": 10,
   "id": "db698930",
   "metadata": {},
   "outputs": [
    {
     "name": "stderr",
     "output_type": "stream",
     "text": [
      "                                                                                \r"
     ]
    },
    {
     "data": {
      "text/plain": [
       "[(2, 3), (1, 8), (3, 4)]"
      ]
     },
     "execution_count": 10,
     "metadata": {},
     "output_type": "execute_result"
    }
   ],
   "source": [
    "rdd2=sc.parallelize([(1,2),(3,4),(1,6),(2,3)])\n",
    "res4=rdd2.reduceByKey(lambda x,y: x+y)\n",
    "res4.collect()"
   ]
  },
  {
   "cell_type": "code",
   "execution_count": 11,
   "id": "c1ed75eb",
   "metadata": {},
   "outputs": [
    {
     "data": {
      "text/plain": [
       "[(2, <pyspark.resultiterable.ResultIterable at 0x7f905416d410>),\n",
       " (1, <pyspark.resultiterable.ResultIterable at 0x7f905415d550>),\n",
       " (3, <pyspark.resultiterable.ResultIterable at 0x7f905416d510>)]"
      ]
     },
     "execution_count": 11,
     "metadata": {},
     "output_type": "execute_result"
    }
   ],
   "source": [
    "res5=rdd2.groupByKey()\n",
    "res5.collect()"
   ]
  },
  {
   "cell_type": "code",
   "execution_count": 12,
   "id": "31d568e8",
   "metadata": {},
   "outputs": [
    {
     "name": "stdout",
     "output_type": "stream",
     "text": [
      "Key: 2, Values: [3]\n",
      "Key: 1, Values: [2, 6]\n",
      "Key: 3, Values: [4]\n"
     ]
    }
   ],
   "source": [
    "for key, values in res5.collect():\n",
    "    print(f\"Key: {key}, Values: {list(values)}\")"
   ]
  },
  {
   "cell_type": "code",
   "execution_count": 13,
   "id": "0109fd8a",
   "metadata": {},
   "outputs": [],
   "source": [
    "words_list=[\"this\",\"is\",\"a\",\"sample\",\"text\",\"document\",\"for\",\"word\",\"count\",\"example\",\"word\",\"count\",\"is\"]"
   ]
  },
  {
   "cell_type": "code",
   "execution_count": 14,
   "id": "e1483c42",
   "metadata": {},
   "outputs": [],
   "source": [
    "rdd=sc.parallelize(words_list)"
   ]
  },
  {
   "cell_type": "code",
   "execution_count": 15,
   "id": "bdcdaae6",
   "metadata": {},
   "outputs": [
    {
     "data": {
      "text/plain": [
       "['this',\n",
       " 'is',\n",
       " 'a',\n",
       " 'sample',\n",
       " 'text',\n",
       " 'document',\n",
       " 'for',\n",
       " 'word',\n",
       " 'count',\n",
       " 'example',\n",
       " 'word',\n",
       " 'count',\n",
       " 'is']"
      ]
     },
     "execution_count": 15,
     "metadata": {},
     "output_type": "execute_result"
    }
   ],
   "source": [
    "word_count = rdd.flatMap(lambda x: x.split(\",\"))\n",
    "word_count.collect()"
   ]
  },
  {
   "cell_type": "code",
   "execution_count": 16,
   "id": "fd096f9a",
   "metadata": {},
   "outputs": [
    {
     "data": {
      "text/plain": [
       "[('this', 1),\n",
       " ('sample', 1),\n",
       " ('text', 1),\n",
       " ('for', 1),\n",
       " ('word', 2),\n",
       " ('is', 2),\n",
       " ('a', 1),\n",
       " ('document', 1),\n",
       " ('count', 2),\n",
       " ('example', 1)]"
      ]
     },
     "execution_count": 16,
     "metadata": {},
     "output_type": "execute_result"
    }
   ],
   "source": [
    "wc = rdd.map(lambda x:(x,1)).reduceByKey(lambda a,b: a+b)\n",
    "wc.collect()"
   ]
  },
  {
   "cell_type": "code",
   "execution_count": 17,
   "id": "5e03d3fa",
   "metadata": {},
   "outputs": [
    {
     "data": {
      "text/plain": [
       "[',apples,oranges', 'June,3,0', 'Robert,2,3', 'Lily,0,7', 'David,1,2']"
      ]
     },
     "execution_count": 17,
     "metadata": {},
     "output_type": "execute_result"
    }
   ],
   "source": [
    "purchaserdd=sc.textFile(\"/home/labuser/Desktop/Pandas_datasets/purchases.csv\")\n",
    "purchaserdd.collect()"
   ]
  },
  {
   "cell_type": "code",
   "execution_count": 18,
   "id": "f6cd5006",
   "metadata": {},
   "outputs": [
    {
     "name": "stdout",
     "output_type": "stream",
     "text": [
      "+------+------+-------+\n",
      "|   _c0|   _c1|    _c2|\n",
      "+------+------+-------+\n",
      "|  null|apples|oranges|\n",
      "|  June|     3|      0|\n",
      "|Robert|     2|      3|\n",
      "|  Lily|     0|      7|\n",
      "| David|     1|      2|\n",
      "+------+------+-------+\n",
      "\n"
     ]
    }
   ],
   "source": [
    "purchasedf=spark.read.csv(\"/home/labuser/Desktop/Pandas_datasets/purchases.csv\")\n",
    "purchasedf.show()"
   ]
  },
  {
   "cell_type": "code",
   "execution_count": 19,
   "id": "69d580e7",
   "metadata": {},
   "outputs": [
    {
     "name": "stdout",
     "output_type": "stream",
     "text": [
      "+------+------+-------+\n",
      "|   _c0|apples|oranges|\n",
      "+------+------+-------+\n",
      "|  June|     3|      0|\n",
      "|Robert|     2|      3|\n",
      "|  Lily|     0|      7|\n",
      "| David|     1|      2|\n",
      "+------+------+-------+\n",
      "\n"
     ]
    },
    {
     "name": "stderr",
     "output_type": "stream",
     "text": [
      "23/09/22 08:15:31 WARN CSVHeaderChecker: CSV header does not conform to the schema.\n",
      " Header: , apples, oranges\n",
      " Schema: _c0, apples, oranges\n",
      "Expected: _c0 but found: \n",
      "CSV file: file:///home/labuser/Desktop/Pandas_datasets/purchases.csv\n"
     ]
    }
   ],
   "source": [
    "purchasedf_01 = spark.read.option(\"inferSchema\",True).option(\"header\",True).csv(\"/home/labuser/Desktop/Pandas_datasets/purchases.csv\")\n",
    "purchasedf_01.show()"
   ]
  },
  {
   "cell_type": "code",
   "execution_count": 20,
   "id": "d1dac486",
   "metadata": {},
   "outputs": [],
   "source": [
    "from pyspark.sql.types import StructType, StructField,IntegerType,StringType\n",
    "moviesSchema=StructType([StructField(\"Rank\",IntegerType(),True),\n",
    "                     StructField(\"Title\",StringType(),True),\n",
    "                     StructField(\"Genre\",StringType(),True)])"
   ]
  },
  {
   "cell_type": "code",
   "execution_count": 21,
   "id": "88503ca1",
   "metadata": {},
   "outputs": [
    {
     "name": "stdout",
     "output_type": "stream",
     "text": [
      "root\n",
      " |-- Rank: integer (nullable = true)\n",
      " |-- Title: string (nullable = true)\n",
      " |-- Genre: string (nullable = true)\n",
      "\n"
     ]
    }
   ],
   "source": [
    "moviesDf = spark.read.schema(moviesSchema).option(\"header\",True).csv(\"/home/labuser/Desktop/Pandas_datasets/IMDB-Movie-Data.csv\")\n",
    "moviesDf.printSchema()"
   ]
  },
  {
   "cell_type": "code",
   "execution_count": 22,
   "id": "f3287ccb",
   "metadata": {},
   "outputs": [
    {
     "name": "stderr",
     "output_type": "stream",
     "text": [
      "23/09/22 08:15:32 WARN CSVHeaderChecker: Number of column in CSV header is not equal to number of fields in the schema:\n",
      " Header length: 12, schema size: 3\n",
      "CSV file: file:///home/labuser/Desktop/Pandas_datasets/IMDB-Movie-Data.csv\n"
     ]
    },
    {
     "name": "stdout",
     "output_type": "stream",
     "text": [
      "+----+--------------------+--------------------+\n",
      "|Rank|               Title|               Genre|\n",
      "+----+--------------------+--------------------+\n",
      "|   1|Guardians of the ...|Action,Adventure,...|\n",
      "|   2|          Prometheus|Adventure,Mystery...|\n",
      "|   3|               Split|     Horror,Thriller|\n",
      "|   4|                Sing|Animation,Comedy,...|\n",
      "|   5|       Suicide Squad|Action,Adventure,...|\n",
      "|   6|      The Great Wall|Action,Adventure,...|\n",
      "|   7|          La La Land|  Comedy,Drama,Music|\n",
      "|   8|            Mindhorn|              Comedy|\n",
      "|   9|  The Lost City of Z|Action,Adventure,...|\n",
      "|  10|          Passengers|Adventure,Drama,R...|\n",
      "|  11|Fantastic Beasts ...|Adventure,Family,...|\n",
      "|  12|      Hidden Figures|Biography,Drama,H...|\n",
      "|  13|           Rogue One|Action,Adventure,...|\n",
      "|  14|               Moana|Animation,Adventu...|\n",
      "|  15|            Colossal| Action,Comedy,Drama|\n",
      "|  16|The Secret Life o...|Animation,Adventu...|\n",
      "|  17|       Hacksaw Ridge|Biography,Drama,H...|\n",
      "|  18|        Jason Bourne|     Action,Thriller|\n",
      "|  19|                Lion|     Biography,Drama|\n",
      "|  20|             Arrival|Drama,Mystery,Sci-Fi|\n",
      "+----+--------------------+--------------------+\n",
      "only showing top 20 rows\n",
      "\n"
     ]
    }
   ],
   "source": [
    "moviesDf.show()"
   ]
  },
  {
   "cell_type": "code",
   "execution_count": 23,
   "id": "7e186959",
   "metadata": {},
   "outputs": [
    {
     "name": "stderr",
     "output_type": "stream",
     "text": [
      "23/09/22 08:15:32 WARN CSVHeaderChecker: Number of column in CSV header is not equal to number of fields in the schema:\n",
      " Header length: 12, schema size: 3\n",
      "CSV file: file:///home/labuser/Desktop/Pandas_datasets/IMDB-Movie-Data.csv\n",
      "[Stage 20:>                                                         (0 + 1) / 1]\r"
     ]
    },
    {
     "data": {
      "text/plain": [
       "10"
      ]
     },
     "execution_count": 23,
     "metadata": {},
     "output_type": "execute_result"
    }
   ],
   "source": [
    "testDf = moviesDf.repartition(10)\n",
    "\n",
    "testDf.rdd.getNumPartitions()"
   ]
  },
  {
   "cell_type": "code",
   "execution_count": 24,
   "id": "dd7fc394",
   "metadata": {},
   "outputs": [
    {
     "name": "stderr",
     "output_type": "stream",
     "text": [
      "23/09/22 08:15:33 WARN CSVHeaderChecker: Number of column in CSV header is not equal to number of fields in the schema:\n",
      " Header length: 12, schema size: 3\n",
      "CSV file: file:///home/labuser/Desktop/Pandas_datasets/IMDB-Movie-Data.csv\n"
     ]
    },
    {
     "ename": "AnalysisException",
     "evalue": "[PATH_ALREADY_EXISTS] Path file:/home/labuser/Downloads/Output/out already exists. Set mode as \"overwrite\" to overwrite the existing path.",
     "output_type": "error",
     "traceback": [
      "\u001b[0;31m---------------------------------------------------------------------------\u001b[0m",
      "\u001b[0;31mAnalysisException\u001b[0m                         Traceback (most recent call last)",
      "Cell \u001b[0;32mIn[24], line 1\u001b[0m\n\u001b[0;32m----> 1\u001b[0m testDf\u001b[38;5;241m.\u001b[39mwrite\u001b[38;5;241m.\u001b[39mcsv(\u001b[38;5;124m\"\u001b[39m\u001b[38;5;124m/home/labuser/Downloads/Output/out\u001b[39m\u001b[38;5;124m\"\u001b[39m)\n",
      "File \u001b[0;32m/opt/anaconda3/lib/python3.11/site-packages/pyspark/sql/readwriter.py:1799\u001b[0m, in \u001b[0;36mDataFrameWriter.csv\u001b[0;34m(self, path, mode, compression, sep, quote, escape, header, nullValue, escapeQuotes, quoteAll, dateFormat, timestampFormat, ignoreLeadingWhiteSpace, ignoreTrailingWhiteSpace, charToEscapeQuoteEscaping, encoding, emptyValue, lineSep)\u001b[0m\n\u001b[1;32m   1780\u001b[0m \u001b[38;5;28mself\u001b[39m\u001b[38;5;241m.\u001b[39mmode(mode)\n\u001b[1;32m   1781\u001b[0m \u001b[38;5;28mself\u001b[39m\u001b[38;5;241m.\u001b[39m_set_opts(\n\u001b[1;32m   1782\u001b[0m     compression\u001b[38;5;241m=\u001b[39mcompression,\n\u001b[1;32m   1783\u001b[0m     sep\u001b[38;5;241m=\u001b[39msep,\n\u001b[0;32m   (...)\u001b[0m\n\u001b[1;32m   1797\u001b[0m     lineSep\u001b[38;5;241m=\u001b[39mlineSep,\n\u001b[1;32m   1798\u001b[0m )\n\u001b[0;32m-> 1799\u001b[0m \u001b[38;5;28mself\u001b[39m\u001b[38;5;241m.\u001b[39m_jwrite\u001b[38;5;241m.\u001b[39mcsv(path)\n",
      "File \u001b[0;32m/opt/anaconda3/lib/python3.11/site-packages/py4j/java_gateway.py:1322\u001b[0m, in \u001b[0;36mJavaMember.__call__\u001b[0;34m(self, *args)\u001b[0m\n\u001b[1;32m   1316\u001b[0m command \u001b[38;5;241m=\u001b[39m proto\u001b[38;5;241m.\u001b[39mCALL_COMMAND_NAME \u001b[38;5;241m+\u001b[39m\\\n\u001b[1;32m   1317\u001b[0m     \u001b[38;5;28mself\u001b[39m\u001b[38;5;241m.\u001b[39mcommand_header \u001b[38;5;241m+\u001b[39m\\\n\u001b[1;32m   1318\u001b[0m     args_command \u001b[38;5;241m+\u001b[39m\\\n\u001b[1;32m   1319\u001b[0m     proto\u001b[38;5;241m.\u001b[39mEND_COMMAND_PART\n\u001b[1;32m   1321\u001b[0m answer \u001b[38;5;241m=\u001b[39m \u001b[38;5;28mself\u001b[39m\u001b[38;5;241m.\u001b[39mgateway_client\u001b[38;5;241m.\u001b[39msend_command(command)\n\u001b[0;32m-> 1322\u001b[0m return_value \u001b[38;5;241m=\u001b[39m get_return_value(\n\u001b[1;32m   1323\u001b[0m     answer, \u001b[38;5;28mself\u001b[39m\u001b[38;5;241m.\u001b[39mgateway_client, \u001b[38;5;28mself\u001b[39m\u001b[38;5;241m.\u001b[39mtarget_id, \u001b[38;5;28mself\u001b[39m\u001b[38;5;241m.\u001b[39mname)\n\u001b[1;32m   1325\u001b[0m \u001b[38;5;28;01mfor\u001b[39;00m temp_arg \u001b[38;5;129;01min\u001b[39;00m temp_args:\n\u001b[1;32m   1326\u001b[0m     \u001b[38;5;28;01mif\u001b[39;00m \u001b[38;5;28mhasattr\u001b[39m(temp_arg, \u001b[38;5;124m\"\u001b[39m\u001b[38;5;124m_detach\u001b[39m\u001b[38;5;124m\"\u001b[39m):\n",
      "File \u001b[0;32m/opt/anaconda3/lib/python3.11/site-packages/pyspark/errors/exceptions/captured.py:175\u001b[0m, in \u001b[0;36mcapture_sql_exception.<locals>.deco\u001b[0;34m(*a, **kw)\u001b[0m\n\u001b[1;32m    171\u001b[0m converted \u001b[38;5;241m=\u001b[39m convert_exception(e\u001b[38;5;241m.\u001b[39mjava_exception)\n\u001b[1;32m    172\u001b[0m \u001b[38;5;28;01mif\u001b[39;00m \u001b[38;5;129;01mnot\u001b[39;00m \u001b[38;5;28misinstance\u001b[39m(converted, UnknownException):\n\u001b[1;32m    173\u001b[0m     \u001b[38;5;66;03m# Hide where the exception came from that shows a non-Pythonic\u001b[39;00m\n\u001b[1;32m    174\u001b[0m     \u001b[38;5;66;03m# JVM exception message.\u001b[39;00m\n\u001b[0;32m--> 175\u001b[0m     \u001b[38;5;28;01mraise\u001b[39;00m converted \u001b[38;5;28;01mfrom\u001b[39;00m \u001b[38;5;28;01mNone\u001b[39;00m\n\u001b[1;32m    176\u001b[0m \u001b[38;5;28;01melse\u001b[39;00m:\n\u001b[1;32m    177\u001b[0m     \u001b[38;5;28;01mraise\u001b[39;00m\n",
      "\u001b[0;31mAnalysisException\u001b[0m: [PATH_ALREADY_EXISTS] Path file:/home/labuser/Downloads/Output/out already exists. Set mode as \"overwrite\" to overwrite the existing path."
     ]
    }
   ],
   "source": [
    "testDf.write.csv(\"/home/labuser/Downloads/Output/out\")"
   ]
  },
  {
   "cell_type": "code",
   "execution_count": 25,
   "id": "5dbe8a87",
   "metadata": {},
   "outputs": [
    {
     "name": "stdout",
     "output_type": "stream",
     "text": [
      "Spark UI URL: http://ip-172-31-10-64.ap-south-1.compute.internal:4040/\n"
     ]
    }
   ],
   "source": [
    "spark_ui_url = f'{spark._jsc.sc().uiWebUrl().get()}/'\n",
    "print(\"Spark UI URL:\",spark_ui_url)"
   ]
  },
  {
   "cell_type": "code",
   "execution_count": 26,
   "id": "6e6ab4cd",
   "metadata": {},
   "outputs": [],
   "source": [
    "dsc=spark.sparkContext"
   ]
  },
  {
   "cell_type": "code",
   "execution_count": 27,
   "id": "63169a81",
   "metadata": {},
   "outputs": [
    {
     "data": {
      "text/plain": [
       "'http://ip-172-31-10-64.ap-south-1.compute.internal:4040'"
      ]
     },
     "execution_count": 27,
     "metadata": {},
     "output_type": "execute_result"
    }
   ],
   "source": [
    "dsc.uiWebUrl"
   ]
  },
  {
   "cell_type": "code",
   "execution_count": 28,
   "id": "78a24396",
   "metadata": {},
   "outputs": [],
   "source": [
    "purchasedf_01.createOrReplaceTempView(\"purchase\")"
   ]
  },
  {
   "cell_type": "code",
   "execution_count": 29,
   "id": "a6e053a9",
   "metadata": {},
   "outputs": [],
   "source": [
    "result=spark.sql(\"select * from purchase\")"
   ]
  },
  {
   "cell_type": "code",
   "execution_count": 30,
   "id": "41c9ddc0",
   "metadata": {},
   "outputs": [
    {
     "data": {
      "text/plain": [
       "pyspark.sql.dataframe.DataFrame"
      ]
     },
     "execution_count": 30,
     "metadata": {},
     "output_type": "execute_result"
    }
   ],
   "source": [
    "type(result)"
   ]
  },
  {
   "cell_type": "code",
   "execution_count": 31,
   "id": "5cd01a7f",
   "metadata": {},
   "outputs": [
    {
     "name": "stdout",
     "output_type": "stream",
     "text": [
      "+------+------+-------+\n",
      "|   _c0|apples|oranges|\n",
      "+------+------+-------+\n",
      "|  June|     3|      0|\n",
      "|Robert|     2|      3|\n",
      "|  Lily|     0|      7|\n",
      "| David|     1|      2|\n",
      "+------+------+-------+\n",
      "\n"
     ]
    },
    {
     "name": "stderr",
     "output_type": "stream",
     "text": [
      "23/09/22 08:18:19 WARN CSVHeaderChecker: CSV header does not conform to the schema.\n",
      " Header: , apples, oranges\n",
      " Schema: _c0, apples, oranges\n",
      "Expected: _c0 but found: \n",
      "CSV file: file:///home/labuser/Desktop/Pandas_datasets/purchases.csv\n",
      "\r",
      "                                                                                \r"
     ]
    }
   ],
   "source": [
    "result.show()"
   ]
  },
  {
   "cell_type": "code",
   "execution_count": 32,
   "id": "164b55c4",
   "metadata": {},
   "outputs": [],
   "source": [
    "from pyspark.sql.functions import *\n"
   ]
  },
  {
   "cell_type": "code",
   "execution_count": 33,
   "id": "479329d9",
   "metadata": {},
   "outputs": [],
   "source": [
    "testdf=moviesDf.sort(col(\"Title\").desc())"
   ]
  },
  {
   "cell_type": "code",
   "execution_count": 34,
   "id": "dcd8d118",
   "metadata": {},
   "outputs": [
    {
     "name": "stderr",
     "output_type": "stream",
     "text": [
      "23/09/22 08:18:22 WARN CSVHeaderChecker: Number of column in CSV header is not equal to number of fields in the schema:\n",
      " Header length: 12, schema size: 3\n",
      "CSV file: file:///home/labuser/Desktop/Pandas_datasets/IMDB-Movie-Data.csv\n"
     ]
    },
    {
     "name": "stdout",
     "output_type": "stream",
     "text": [
      "+----+--------------------+--------------------+\n",
      "|Rank|               Title|               Genre|\n",
      "+----+--------------------+--------------------+\n",
      "|  75|            Zootopia|Animation,Adventu...|\n",
      "| 432|         Zoolander 2|              Comedy|\n",
      "| 364|          Zombieland|Adventure,Comedy,...|\n",
      "| 278|              Zodiac| Crime,Drama,History|\n",
      "| 545|              Zipper|      Drama,Thriller|\n",
      "| 407|    Zero Dark Thirty|Drama,History,Thr...|\n",
      "| 793|Zack and Miri Mak...|      Comedy,Romance|\n",
      "| 504|               Youth|  Comedy,Drama,Music|\n",
      "| 986|       Your Highness|Adventure,Comedy,...|\n",
      "| 838|You Don't Mess wi...|       Action,Comedy|\n",
      "| 801|         Yoga Hosers|Comedy,Fantasy,Ho...|\n",
      "| 206|      X: First Class|Action,Adventure,...|\n",
      "| 627|X-Men: The Last S...|Action,Adventure,...|\n",
      "| 163|X-Men: Days of Fu...|Action,Adventure,...|\n",
      "|  33|   X-Men: Apocalypse|Action,Adventure,...|\n",
      "| 269|X-Men Origins: Wo...|Action,Adventure,...|\n",
      "| 969|             Wrecker|Action,Horror,Thr...|\n",
      "| 564|      Wreck-It Ralph|Animation,Adventu...|\n",
      "| 880| Wrath of the Titans|Action,Adventure,...|\n",
      "| 433|         World War Z|Action,Adventure,...|\n",
      "+----+--------------------+--------------------+\n",
      "only showing top 20 rows\n",
      "\n"
     ]
    }
   ],
   "source": [
    "testdf.show()"
   ]
  },
  {
   "cell_type": "code",
   "execution_count": 35,
   "id": "587960d0",
   "metadata": {},
   "outputs": [
    {
     "name": "stdout",
     "output_type": "stream",
     "text": [
      "+--------------------+----+\n",
      "|               Title|Rank|\n",
      "+--------------------+----+\n",
      "|Guardians of the ...|   1|\n",
      "|          Prometheus|   2|\n",
      "|               Split|   3|\n",
      "|                Sing|   4|\n",
      "|       Suicide Squad|   5|\n",
      "|      The Great Wall|   6|\n",
      "|          La La Land|   7|\n",
      "|            Mindhorn|   8|\n",
      "|  The Lost City of Z|   9|\n",
      "|          Passengers|  10|\n",
      "|Fantastic Beasts ...|  11|\n",
      "|      Hidden Figures|  12|\n",
      "|           Rogue One|  13|\n",
      "|               Moana|  14|\n",
      "|            Colossal|  15|\n",
      "|The Secret Life o...|  16|\n",
      "|       Hacksaw Ridge|  17|\n",
      "|        Jason Bourne|  18|\n",
      "|                Lion|  19|\n",
      "|             Arrival|  20|\n",
      "+--------------------+----+\n",
      "only showing top 20 rows\n",
      "\n"
     ]
    }
   ],
   "source": [
    "df=moviesDf.select('Title','Rank')\n",
    "df.show()"
   ]
  },
  {
   "cell_type": "code",
   "execution_count": 36,
   "id": "3bd283b4",
   "metadata": {},
   "outputs": [
    {
     "ename": "NameError",
     "evalue": "name 'datetime' is not defined",
     "output_type": "error",
     "traceback": [
      "\u001b[0;31m---------------------------------------------------------------------------\u001b[0m",
      "\u001b[0;31mNameError\u001b[0m                                 Traceback (most recent call last)",
      "Cell \u001b[0;32mIn[36], line 1\u001b[0m\n\u001b[0;32m----> 1\u001b[0m testdf\u001b[38;5;241m=\u001b[39mmoviesDf\u001b[38;5;241m.\u001b[39mwithColumn(\u001b[38;5;124m'\u001b[39m\u001b[38;5;124mupdated_list_ts\u001b[39m\u001b[38;5;124m'\u001b[39m,lit(datetime\u001b[38;5;241m.\u001b[39mdatetime\u001b[38;5;241m.\u001b[39mnow()))\n",
      "\u001b[0;31mNameError\u001b[0m: name 'datetime' is not defined"
     ]
    }
   ],
   "source": [
    "testdf=moviesDf.withColumn('updated_list_ts',lit(datetime.datetime.now()))"
   ]
  },
  {
   "cell_type": "code",
   "execution_count": 37,
   "id": "3fcbe94b",
   "metadata": {},
   "outputs": [
    {
     "name": "stdout",
     "output_type": "stream",
     "text": [
      "+----+--------------------+--------------------+\n",
      "|Rank|               Title|               Genre|\n",
      "+----+--------------------+--------------------+\n",
      "|  75|            Zootopia|Animation,Adventu...|\n",
      "| 432|         Zoolander 2|              Comedy|\n",
      "| 364|          Zombieland|Adventure,Comedy,...|\n",
      "| 278|              Zodiac| Crime,Drama,History|\n",
      "| 545|              Zipper|      Drama,Thriller|\n",
      "| 407|    Zero Dark Thirty|Drama,History,Thr...|\n",
      "| 793|Zack and Miri Mak...|      Comedy,Romance|\n",
      "| 504|               Youth|  Comedy,Drama,Music|\n",
      "| 986|       Your Highness|Adventure,Comedy,...|\n",
      "| 838|You Don't Mess wi...|       Action,Comedy|\n",
      "| 801|         Yoga Hosers|Comedy,Fantasy,Ho...|\n",
      "| 206|      X: First Class|Action,Adventure,...|\n",
      "| 627|X-Men: The Last S...|Action,Adventure,...|\n",
      "| 163|X-Men: Days of Fu...|Action,Adventure,...|\n",
      "|  33|   X-Men: Apocalypse|Action,Adventure,...|\n",
      "| 269|X-Men Origins: Wo...|Action,Adventure,...|\n",
      "| 969|             Wrecker|Action,Horror,Thr...|\n",
      "| 564|      Wreck-It Ralph|Animation,Adventu...|\n",
      "| 880| Wrath of the Titans|Action,Adventure,...|\n",
      "| 433|         World War Z|Action,Adventure,...|\n",
      "+----+--------------------+--------------------+\n",
      "only showing top 20 rows\n",
      "\n"
     ]
    },
    {
     "name": "stderr",
     "output_type": "stream",
     "text": [
      "23/09/22 08:18:25 WARN CSVHeaderChecker: Number of column in CSV header is not equal to number of fields in the schema:\n",
      " Header length: 12, schema size: 3\n",
      "CSV file: file:///home/labuser/Desktop/Pandas_datasets/IMDB-Movie-Data.csv\n"
     ]
    }
   ],
   "source": [
    "testdf.show()"
   ]
  },
  {
   "cell_type": "code",
   "execution_count": 38,
   "id": "ca60d27c",
   "metadata": {},
   "outputs": [
    {
     "ename": "AnalysisException",
     "evalue": "[UNRESOLVED_COLUMN.WITH_SUGGESTION] A column or function parameter with name `updated_list_ts` cannot be resolved. Did you mean one of the following? [`Title`, `Genre`, `Rank`].; line 1 pos 5;\n'Project [cast('updated_list_ts as date) AS test#176, Title#81]\n+- Sort [Title#81 DESC NULLS LAST], true\n   +- Relation [Rank#80,Title#81,Genre#82] csv\n",
     "output_type": "error",
     "traceback": [
      "\u001b[0;31m---------------------------------------------------------------------------\u001b[0m",
      "\u001b[0;31mAnalysisException\u001b[0m                         Traceback (most recent call last)",
      "Cell \u001b[0;32mIn[38], line 1\u001b[0m\n\u001b[0;32m----> 1\u001b[0m testdf\u001b[38;5;241m.\u001b[39mselectExpr(\u001b[38;5;124m'\u001b[39m\u001b[38;5;124mCAST(updated_list_ts AS DATE)AS test\u001b[39m\u001b[38;5;124m'\u001b[39m,\u001b[38;5;124m'\u001b[39m\u001b[38;5;124mTitle\u001b[39m\u001b[38;5;124m'\u001b[39m)\u001b[38;5;241m.\u001b[39mshow()\n",
      "File \u001b[0;32m/opt/anaconda3/lib/python3.11/site-packages/pyspark/sql/dataframe.py:3076\u001b[0m, in \u001b[0;36mDataFrame.selectExpr\u001b[0;34m(self, *expr)\u001b[0m\n\u001b[1;32m   3074\u001b[0m \u001b[38;5;28;01mif\u001b[39;00m \u001b[38;5;28mlen\u001b[39m(expr) \u001b[38;5;241m==\u001b[39m \u001b[38;5;241m1\u001b[39m \u001b[38;5;129;01mand\u001b[39;00m \u001b[38;5;28misinstance\u001b[39m(expr[\u001b[38;5;241m0\u001b[39m], \u001b[38;5;28mlist\u001b[39m):\n\u001b[1;32m   3075\u001b[0m     expr \u001b[38;5;241m=\u001b[39m expr[\u001b[38;5;241m0\u001b[39m]  \u001b[38;5;66;03m# type: ignore[assignment]\u001b[39;00m\n\u001b[0;32m-> 3076\u001b[0m jdf \u001b[38;5;241m=\u001b[39m \u001b[38;5;28mself\u001b[39m\u001b[38;5;241m.\u001b[39m_jdf\u001b[38;5;241m.\u001b[39mselectExpr(\u001b[38;5;28mself\u001b[39m\u001b[38;5;241m.\u001b[39m_jseq(expr))\n\u001b[1;32m   3077\u001b[0m \u001b[38;5;28;01mreturn\u001b[39;00m DataFrame(jdf, \u001b[38;5;28mself\u001b[39m\u001b[38;5;241m.\u001b[39msparkSession)\n",
      "File \u001b[0;32m/opt/anaconda3/lib/python3.11/site-packages/py4j/java_gateway.py:1322\u001b[0m, in \u001b[0;36mJavaMember.__call__\u001b[0;34m(self, *args)\u001b[0m\n\u001b[1;32m   1316\u001b[0m command \u001b[38;5;241m=\u001b[39m proto\u001b[38;5;241m.\u001b[39mCALL_COMMAND_NAME \u001b[38;5;241m+\u001b[39m\\\n\u001b[1;32m   1317\u001b[0m     \u001b[38;5;28mself\u001b[39m\u001b[38;5;241m.\u001b[39mcommand_header \u001b[38;5;241m+\u001b[39m\\\n\u001b[1;32m   1318\u001b[0m     args_command \u001b[38;5;241m+\u001b[39m\\\n\u001b[1;32m   1319\u001b[0m     proto\u001b[38;5;241m.\u001b[39mEND_COMMAND_PART\n\u001b[1;32m   1321\u001b[0m answer \u001b[38;5;241m=\u001b[39m \u001b[38;5;28mself\u001b[39m\u001b[38;5;241m.\u001b[39mgateway_client\u001b[38;5;241m.\u001b[39msend_command(command)\n\u001b[0;32m-> 1322\u001b[0m return_value \u001b[38;5;241m=\u001b[39m get_return_value(\n\u001b[1;32m   1323\u001b[0m     answer, \u001b[38;5;28mself\u001b[39m\u001b[38;5;241m.\u001b[39mgateway_client, \u001b[38;5;28mself\u001b[39m\u001b[38;5;241m.\u001b[39mtarget_id, \u001b[38;5;28mself\u001b[39m\u001b[38;5;241m.\u001b[39mname)\n\u001b[1;32m   1325\u001b[0m \u001b[38;5;28;01mfor\u001b[39;00m temp_arg \u001b[38;5;129;01min\u001b[39;00m temp_args:\n\u001b[1;32m   1326\u001b[0m     \u001b[38;5;28;01mif\u001b[39;00m \u001b[38;5;28mhasattr\u001b[39m(temp_arg, \u001b[38;5;124m\"\u001b[39m\u001b[38;5;124m_detach\u001b[39m\u001b[38;5;124m\"\u001b[39m):\n",
      "File \u001b[0;32m/opt/anaconda3/lib/python3.11/site-packages/pyspark/errors/exceptions/captured.py:175\u001b[0m, in \u001b[0;36mcapture_sql_exception.<locals>.deco\u001b[0;34m(*a, **kw)\u001b[0m\n\u001b[1;32m    171\u001b[0m converted \u001b[38;5;241m=\u001b[39m convert_exception(e\u001b[38;5;241m.\u001b[39mjava_exception)\n\u001b[1;32m    172\u001b[0m \u001b[38;5;28;01mif\u001b[39;00m \u001b[38;5;129;01mnot\u001b[39;00m \u001b[38;5;28misinstance\u001b[39m(converted, UnknownException):\n\u001b[1;32m    173\u001b[0m     \u001b[38;5;66;03m# Hide where the exception came from that shows a non-Pythonic\u001b[39;00m\n\u001b[1;32m    174\u001b[0m     \u001b[38;5;66;03m# JVM exception message.\u001b[39;00m\n\u001b[0;32m--> 175\u001b[0m     \u001b[38;5;28;01mraise\u001b[39;00m converted \u001b[38;5;28;01mfrom\u001b[39;00m \u001b[38;5;28;01mNone\u001b[39;00m\n\u001b[1;32m    176\u001b[0m \u001b[38;5;28;01melse\u001b[39;00m:\n\u001b[1;32m    177\u001b[0m     \u001b[38;5;28;01mraise\u001b[39;00m\n",
      "\u001b[0;31mAnalysisException\u001b[0m: [UNRESOLVED_COLUMN.WITH_SUGGESTION] A column or function parameter with name `updated_list_ts` cannot be resolved. Did you mean one of the following? [`Title`, `Genre`, `Rank`].; line 1 pos 5;\n'Project [cast('updated_list_ts as date) AS test#176, Title#81]\n+- Sort [Title#81 DESC NULLS LAST], true\n   +- Relation [Rank#80,Title#81,Genre#82] csv\n"
     ]
    }
   ],
   "source": [
    "testdf.selectExpr('CAST(updated_list_ts AS DATE)AS test','Title').show()"
   ]
  },
  {
   "cell_type": "code",
   "execution_count": 39,
   "id": "9e401b97",
   "metadata": {},
   "outputs": [
    {
     "data": {
      "text/plain": [
       "646"
      ]
     },
     "execution_count": 39,
     "metadata": {},
     "output_type": "execute_result"
    }
   ],
   "source": [
    "movieDf = spark.read.option(\"inferSchema\",True).option(\"header\",True).csv(\"/home/labuser/Desktop/Pandas_datasets/IMDB-Movie-Data.csv\")\n",
    "#movieDf.printSchema()\n",
    "movieDf.dropDuplicates([\"Director\"]).count()"
   ]
  },
  {
   "cell_type": "code",
   "execution_count": 40,
   "id": "3283b904",
   "metadata": {},
   "outputs": [
    {
     "data": {
      "text/plain": [
       "1000"
      ]
     },
     "execution_count": 40,
     "metadata": {},
     "output_type": "execute_result"
    }
   ],
   "source": [
    "movieDf.count()"
   ]
  },
  {
   "cell_type": "code",
   "execution_count": 41,
   "id": "bb47e0b5",
   "metadata": {},
   "outputs": [
    {
     "name": "stdout",
     "output_type": "stream",
     "text": [
      "+----+--------------------+--------------------+--------------------+--------------------+--------------------+--------------------+-----------------+------+------+------------------+---------+------------+\n",
      "|Rank|               Title|               Genre|         Description|            Director|              Actors|                Year|Runtime (Minutes)|Rating| Votes|Revenue (Millions)|Metascore|Rating_value|\n",
      "+----+--------------------+--------------------+--------------------+--------------------+--------------------+--------------------+-----------------+------+------+------------------+---------+------------+\n",
      "|   1|Guardians of the ...|Action,Adventure,...|A group of interg...|          James Gunn|Chris Pratt, Vin ...|                2014|              121|   8.1|757074|            333.13|     76.0|        Good|\n",
      "|   2|          Prometheus|Adventure,Mystery...|Following clues t...|        Ridley Scott|Noomi Rapace, Log...|                2012|              124|     7|485820|            126.46|     65.0|        Good|\n",
      "|   3|               Split|     Horror,Thriller|Three girls are k...|  M. Night Shyamalan|James McAvoy, Any...|                2016|              117|   7.3|157606|            138.12|     62.0|        Good|\n",
      "|   4|                Sing|Animation,Comedy,...|In a city of huma...|Christophe Lourdelet|Matthew McConaugh...|                2016|              108|   7.2| 60545|            270.32|     59.0|        Good|\n",
      "|   5|       Suicide Squad|Action,Adventure,...|A secret governme...|          David Ayer|Will Smith, Jared...|                2016|              123|   6.2|393727|            325.02|     40.0|        Good|\n",
      "|   6|      The Great Wall|Action,Adventure,...|European mercenar...|         Yimou Zhang|Matt Damon, Tian ...|                2016|              103|   6.1| 56036|             45.13|     42.0|        Good|\n",
      "|   7|          La La Land|  Comedy,Drama,Music|A jazz pianist fa...|     Damien Chazelle|Ryan Gosling, Emm...|                2016|              128|   8.3|258682|            151.06|     93.0|        Good|\n",
      "|   8|            Mindhorn|              Comedy|\"A has-been actor...| whom he believes...|          Sean Foley|Essie Davis, Andr...|             2016|    89|   6.4|            2490.0|     null|         Bad|\n",
      "|   9|  The Lost City of Z|Action,Adventure,...|A true-life drama...|          James Gray|Charlie Hunnam, R...|                2016|              141|   7.1|  7188|              8.01|     78.0|        Good|\n",
      "|  10|          Passengers|Adventure,Drama,R...|A spacecraft trav...|       Morten Tyldum|Jennifer Lawrence...|                2016|              116|     7|192177|            100.01|     41.0|        Good|\n",
      "|  11|Fantastic Beasts ...|Adventure,Family,...|The adventures of...|         David Yates|Eddie Redmayne, K...|                2016|              133|   7.5|232072|            234.02|     66.0|        Good|\n",
      "|  12|      Hidden Figures|Biography,Drama,H...|The story of a te...|      Theodore Melfi|Taraji P. Henson,...|                2016|              127|   7.8| 93103|            169.27|     74.0|        Good|\n",
      "|  13|           Rogue One|Action,Adventure,...|The Rebel Allianc...|      Gareth Edwards|Felicity Jones, D...|                2016|              133|   7.9|323118|            532.17|     65.0|        Good|\n",
      "|  14|               Moana|Animation,Adventu...|In Ancient Polyne...|        Ron Clements|Auli'i Cravalho, ...|                2016|              107|   7.7|118151|            248.75|     81.0|        Good|\n",
      "|  15|            Colossal| Action,Comedy,Drama|Gloria is an out-...|     Nacho Vigalondo|Anne Hathaway, Ja...|                2016|              109|   6.4|  8612|              2.87|     70.0|        Good|\n",
      "|  16|The Secret Life o...|Animation,Adventu...|The quiet life of...|        Chris Renaud|Louis C.K., Eric ...|                2016|               87|   6.6|120259|            368.31|     61.0|        Good|\n",
      "|  17|       Hacksaw Ridge|Biography,Drama,H...|WWII American Arm...|          Mel Gibson|Andrew Garfield, ...|                2016|              139|   8.2|211760|             67.12|     71.0|        Good|\n",
      "|  18|        Jason Bourne|     Action,Thriller|The CIA's most da...|     Paul Greengrass|Matt Damon, Tommy...|                2016|              123|   6.7|150823|            162.16|     58.0|        Good|\n",
      "|  19|                Lion|     Biography,Drama|A five-year-old I...|         Garth Davis|Dev Patel, Nicole...|                2016|              118|   8.1|102061|             51.69|     69.0|        Good|\n",
      "|  20|             Arrival|Drama,Mystery,Sci-Fi|When twelve myste...|    Denis Villeneuve|Amy Adams, Jeremy...|                2016|              116|     8|340798|             100.5|     81.0|        Good|\n",
      "+----+--------------------+--------------------+--------------------+--------------------+--------------------+--------------------+-----------------+------+------+------------------+---------+------------+\n",
      "only showing top 20 rows\n",
      "\n"
     ]
    }
   ],
   "source": [
    "ifDf = movieDf.withColumn(\"Rating_value\",when(col(\"Rating\")<=5,\"Average\").when((col(\"Rating\")>5) & (col(\"Rating\")<=8),\"Good\").when((col(\"Rating\")>8) & (col(\"Rating\")<=10),\"Best\").otherwise(\"Bad\"))\n",
    "ifDf.show()"
   ]
  },
  {
   "cell_type": "code",
   "execution_count": 42,
   "id": "a22bacd1",
   "metadata": {},
   "outputs": [],
   "source": [
    "def concat_shell(column):\n",
    "    return column+\"_shell\""
   ]
  },
  {
   "cell_type": "code",
   "execution_count": 43,
   "id": "c090478d",
   "metadata": {},
   "outputs": [],
   "source": [
    "from pyspark.sql.functions import *\n",
    "my_uds=udf(concat_shell,StringType())"
   ]
  },
  {
   "cell_type": "code",
   "execution_count": 44,
   "id": "3eea7572",
   "metadata": {},
   "outputs": [],
   "source": [
    "test=movieDf.withColumn(\"new_col\",my_uds(col(\"Title\")))"
   ]
  },
  {
   "cell_type": "code",
   "execution_count": 45,
   "id": "55bf37e5",
   "metadata": {
    "scrolled": true
   },
   "outputs": [
    {
     "name": "stderr",
     "output_type": "stream",
     "text": [
      "\r",
      "[Stage 38:>                                                         (0 + 1) / 1]\r"
     ]
    },
    {
     "name": "stdout",
     "output_type": "stream",
     "text": [
      "+----+--------------------+--------------------+--------------------+--------------------+--------------------+--------------------+-----------------+------+------+------------------+---------+--------------------+\n",
      "|Rank|               Title|               Genre|         Description|            Director|              Actors|                Year|Runtime (Minutes)|Rating| Votes|Revenue (Millions)|Metascore|             new_col|\n",
      "+----+--------------------+--------------------+--------------------+--------------------+--------------------+--------------------+-----------------+------+------+------------------+---------+--------------------+\n",
      "|   1|Guardians of the ...|Action,Adventure,...|A group of interg...|          James Gunn|Chris Pratt, Vin ...|                2014|              121|   8.1|757074|            333.13|     76.0|Guardians of the ...|\n",
      "|   2|          Prometheus|Adventure,Mystery...|Following clues t...|        Ridley Scott|Noomi Rapace, Log...|                2012|              124|     7|485820|            126.46|     65.0|    Prometheus_shell|\n",
      "|   3|               Split|     Horror,Thriller|Three girls are k...|  M. Night Shyamalan|James McAvoy, Any...|                2016|              117|   7.3|157606|            138.12|     62.0|         Split_shell|\n",
      "|   4|                Sing|Animation,Comedy,...|In a city of huma...|Christophe Lourdelet|Matthew McConaugh...|                2016|              108|   7.2| 60545|            270.32|     59.0|          Sing_shell|\n",
      "|   5|       Suicide Squad|Action,Adventure,...|A secret governme...|          David Ayer|Will Smith, Jared...|                2016|              123|   6.2|393727|            325.02|     40.0| Suicide Squad_shell|\n",
      "|   6|      The Great Wall|Action,Adventure,...|European mercenar...|         Yimou Zhang|Matt Damon, Tian ...|                2016|              103|   6.1| 56036|             45.13|     42.0|The Great Wall_shell|\n",
      "|   7|          La La Land|  Comedy,Drama,Music|A jazz pianist fa...|     Damien Chazelle|Ryan Gosling, Emm...|                2016|              128|   8.3|258682|            151.06|     93.0|    La La Land_shell|\n",
      "|   8|            Mindhorn|              Comedy|\"A has-been actor...| whom he believes...|          Sean Foley|Essie Davis, Andr...|             2016|    89|   6.4|            2490.0|     null|      Mindhorn_shell|\n",
      "|   9|  The Lost City of Z|Action,Adventure,...|A true-life drama...|          James Gray|Charlie Hunnam, R...|                2016|              141|   7.1|  7188|              8.01|     78.0|The Lost City of ...|\n",
      "|  10|          Passengers|Adventure,Drama,R...|A spacecraft trav...|       Morten Tyldum|Jennifer Lawrence...|                2016|              116|     7|192177|            100.01|     41.0|    Passengers_shell|\n",
      "|  11|Fantastic Beasts ...|Adventure,Family,...|The adventures of...|         David Yates|Eddie Redmayne, K...|                2016|              133|   7.5|232072|            234.02|     66.0|Fantastic Beasts ...|\n",
      "|  12|      Hidden Figures|Biography,Drama,H...|The story of a te...|      Theodore Melfi|Taraji P. Henson,...|                2016|              127|   7.8| 93103|            169.27|     74.0|Hidden Figures_shell|\n",
      "|  13|           Rogue One|Action,Adventure,...|The Rebel Allianc...|      Gareth Edwards|Felicity Jones, D...|                2016|              133|   7.9|323118|            532.17|     65.0|     Rogue One_shell|\n",
      "|  14|               Moana|Animation,Adventu...|In Ancient Polyne...|        Ron Clements|Auli'i Cravalho, ...|                2016|              107|   7.7|118151|            248.75|     81.0|         Moana_shell|\n",
      "|  15|            Colossal| Action,Comedy,Drama|Gloria is an out-...|     Nacho Vigalondo|Anne Hathaway, Ja...|                2016|              109|   6.4|  8612|              2.87|     70.0|      Colossal_shell|\n",
      "|  16|The Secret Life o...|Animation,Adventu...|The quiet life of...|        Chris Renaud|Louis C.K., Eric ...|                2016|               87|   6.6|120259|            368.31|     61.0|The Secret Life o...|\n",
      "|  17|       Hacksaw Ridge|Biography,Drama,H...|WWII American Arm...|          Mel Gibson|Andrew Garfield, ...|                2016|              139|   8.2|211760|             67.12|     71.0| Hacksaw Ridge_shell|\n",
      "|  18|        Jason Bourne|     Action,Thriller|The CIA's most da...|     Paul Greengrass|Matt Damon, Tommy...|                2016|              123|   6.7|150823|            162.16|     58.0|  Jason Bourne_shell|\n",
      "|  19|                Lion|     Biography,Drama|A five-year-old I...|         Garth Davis|Dev Patel, Nicole...|                2016|              118|   8.1|102061|             51.69|     69.0|          Lion_shell|\n",
      "|  20|             Arrival|Drama,Mystery,Sci-Fi|When twelve myste...|    Denis Villeneuve|Amy Adams, Jeremy...|                2016|              116|     8|340798|             100.5|     81.0|       Arrival_shell|\n",
      "+----+--------------------+--------------------+--------------------+--------------------+--------------------+--------------------+-----------------+------+------+------------------+---------+--------------------+\n",
      "only showing top 20 rows\n",
      "\n"
     ]
    },
    {
     "name": "stderr",
     "output_type": "stream",
     "text": [
      "\r",
      "[Stage 38:==========================================================(1 + 0) / 1]\r",
      "\r",
      "                                                                                \r"
     ]
    }
   ],
   "source": [
    "test.show()"
   ]
  },
  {
   "cell_type": "code",
   "execution_count": 49,
   "id": "f7635278",
   "metadata": {},
   "outputs": [
    {
     "name": "stdout",
     "output_type": "stream",
     "text": [
      "root\n",
      " |-- Rank: integer (nullable = true)\n",
      " |-- Title: string (nullable = true)\n",
      " |-- Genre: string (nullable = true)\n",
      " |-- Description: string (nullable = true)\n",
      " |-- Director: string (nullable = true)\n",
      " |-- Actors: string (nullable = true)\n",
      " |-- Year: string (nullable = true)\n",
      " |-- Runtime (Minutes): string (nullable = true)\n",
      " |-- Rating: string (nullable = true)\n",
      " |-- Votes: string (nullable = true)\n",
      " |-- Revenue (Millions): double (nullable = true)\n",
      " |-- Metascore: double (nullable = true)\n",
      "\n"
     ]
    }
   ],
   "source": [
    "cacDf = spark.read.option(\"inferSchema\",True).option(\"header\",True).csv(\"/home/labuser/Desktop/Pandas_datasets/IMDB-Movie-Data.csv\")\n",
    "cacDf.printSchema()"
   ]
  },
  {
   "cell_type": "code",
   "execution_count": 50,
   "id": "3094a0d2",
   "metadata": {},
   "outputs": [],
   "source": [
    "new = cacDf.cache()"
   ]
  },
  {
   "cell_type": "code",
   "execution_count": 51,
   "id": "22c76070",
   "metadata": {},
   "outputs": [
    {
     "name": "stdout",
     "output_type": "stream",
     "text": [
      "+----+--------------------+--------------------+--------------------+--------------------+--------------------+--------------------+-----------------+------+------+------------------+---------+\n",
      "|Rank|               Title|               Genre|         Description|            Director|              Actors|                Year|Runtime (Minutes)|Rating| Votes|Revenue (Millions)|Metascore|\n",
      "+----+--------------------+--------------------+--------------------+--------------------+--------------------+--------------------+-----------------+------+------+------------------+---------+\n",
      "|   1|Guardians of the ...|Action,Adventure,...|A group of interg...|          James Gunn|Chris Pratt, Vin ...|                2014|              121|   8.1|757074|            333.13|     76.0|\n",
      "|   2|          Prometheus|Adventure,Mystery...|Following clues t...|        Ridley Scott|Noomi Rapace, Log...|                2012|              124|     7|485820|            126.46|     65.0|\n",
      "|   3|               Split|     Horror,Thriller|Three girls are k...|  M. Night Shyamalan|James McAvoy, Any...|                2016|              117|   7.3|157606|            138.12|     62.0|\n",
      "|   4|                Sing|Animation,Comedy,...|In a city of huma...|Christophe Lourdelet|Matthew McConaugh...|                2016|              108|   7.2| 60545|            270.32|     59.0|\n",
      "|   5|       Suicide Squad|Action,Adventure,...|A secret governme...|          David Ayer|Will Smith, Jared...|                2016|              123|   6.2|393727|            325.02|     40.0|\n",
      "|   6|      The Great Wall|Action,Adventure,...|European mercenar...|         Yimou Zhang|Matt Damon, Tian ...|                2016|              103|   6.1| 56036|             45.13|     42.0|\n",
      "|   7|          La La Land|  Comedy,Drama,Music|A jazz pianist fa...|     Damien Chazelle|Ryan Gosling, Emm...|                2016|              128|   8.3|258682|            151.06|     93.0|\n",
      "|   8|            Mindhorn|              Comedy|\"A has-been actor...| whom he believes...|          Sean Foley|Essie Davis, Andr...|             2016|    89|   6.4|            2490.0|     null|\n",
      "|   9|  The Lost City of Z|Action,Adventure,...|A true-life drama...|          James Gray|Charlie Hunnam, R...|                2016|              141|   7.1|  7188|              8.01|     78.0|\n",
      "|  10|          Passengers|Adventure,Drama,R...|A spacecraft trav...|       Morten Tyldum|Jennifer Lawrence...|                2016|              116|     7|192177|            100.01|     41.0|\n",
      "|  11|Fantastic Beasts ...|Adventure,Family,...|The adventures of...|         David Yates|Eddie Redmayne, K...|                2016|              133|   7.5|232072|            234.02|     66.0|\n",
      "|  12|      Hidden Figures|Biography,Drama,H...|The story of a te...|      Theodore Melfi|Taraji P. Henson,...|                2016|              127|   7.8| 93103|            169.27|     74.0|\n",
      "|  13|           Rogue One|Action,Adventure,...|The Rebel Allianc...|      Gareth Edwards|Felicity Jones, D...|                2016|              133|   7.9|323118|            532.17|     65.0|\n",
      "|  14|               Moana|Animation,Adventu...|In Ancient Polyne...|        Ron Clements|Auli'i Cravalho, ...|                2016|              107|   7.7|118151|            248.75|     81.0|\n",
      "|  15|            Colossal| Action,Comedy,Drama|Gloria is an out-...|     Nacho Vigalondo|Anne Hathaway, Ja...|                2016|              109|   6.4|  8612|              2.87|     70.0|\n",
      "|  16|The Secret Life o...|Animation,Adventu...|The quiet life of...|        Chris Renaud|Louis C.K., Eric ...|                2016|               87|   6.6|120259|            368.31|     61.0|\n",
      "|  17|       Hacksaw Ridge|Biography,Drama,H...|WWII American Arm...|          Mel Gibson|Andrew Garfield, ...|                2016|              139|   8.2|211760|             67.12|     71.0|\n",
      "|  18|        Jason Bourne|     Action,Thriller|The CIA's most da...|     Paul Greengrass|Matt Damon, Tommy...|                2016|              123|   6.7|150823|            162.16|     58.0|\n",
      "|  19|                Lion|     Biography,Drama|A five-year-old I...|         Garth Davis|Dev Patel, Nicole...|                2016|              118|   8.1|102061|             51.69|     69.0|\n",
      "|  20|             Arrival|Drama,Mystery,Sci-Fi|When twelve myste...|    Denis Villeneuve|Amy Adams, Jeremy...|                2016|              116|     8|340798|             100.5|     81.0|\n",
      "+----+--------------------+--------------------+--------------------+--------------------+--------------------+--------------------+-----------------+------+------+------------------+---------+\n",
      "only showing top 20 rows\n",
      "\n"
     ]
    },
    {
     "name": "stderr",
     "output_type": "stream",
     "text": [
      "\r",
      "[Stage 41:>                                                         (0 + 1) / 1]\r",
      "\r",
      "                                                                                \r"
     ]
    }
   ],
   "source": [
    "new.show()"
   ]
  },
  {
   "cell_type": "code",
   "execution_count": 52,
   "id": "d4744e11",
   "metadata": {},
   "outputs": [
    {
     "name": "stderr",
     "output_type": "stream",
     "text": [
      "                                                                                \r"
     ]
    }
   ],
   "source": [
    "customerDf = spark.read.option(\"sep\",\"\\t\").option(\"header\",True).option(\"inferSchema\",True).csv(\"/home/labuser/Downloads/Sales/customer.csv\")\n",
    "lineitemDf = spark.read.option(\"sep\",\"\\t\").option(\"header\",True).option(\"inferSchema\",True).csv(\"/home/labuser/Downloads/Sales/lineitem.csv\")\n",
    "nationDf = spark.read.option(\"sep\",\"\\t\").option(\"header\",True).option(\"inferSchema\",True).csv(\"/home/labuser/Downloads/Sales/nation.csv\")\n",
    "ordersDf = spark.read.option(\"sep\",\"\\t\").option(\"header\",True).option(\"inferSchema\",True).csv(\"/home/labuser/Downloads/Sales/orders.csv\")\n",
    "partDf = spark.read.option(\"sep\",\"\\t\").option(\"header\",True).option(\"inferSchema\",True).csv(\"/home/labuser/Downloads/Sales/part.csv\")\n",
    "partsuppDf = spark.read.option(\"sep\",\"\\t\").option(\"header\",True).option(\"inferSchema\",True).csv(\"/home/labuser/Downloads/Sales/partsupp.csv\")\n",
    "regionDf = spark.read.option(\"sep\",\"\\t\").option(\"header\",True).option(\"inferSchema\",True).csv(\"/home/labuser/Downloads/Sales/region.csv\")\n",
    "supplierDf = spark.read.option(\"sep\",\"\\t\").option(\"header\",True).option(\"inferSchema\",True).csv(\"/home/labuser/Downloads/Sales/supplier.csv\")"
   ]
  },
  {
   "cell_type": "code",
   "execution_count": 55,
   "id": "66ff246e",
   "metadata": {
    "scrolled": true
   },
   "outputs": [
    {
     "name": "stdout",
     "output_type": "stream",
     "text": [
      "+---------+------------------+--------------------+-----------+---------------+---------+------------+--------------------+----------+---------+-------------+------------+-----------+---------------+---------------+--------------+--------------------+\n",
      "|C_CUSTKEY|            C_NAME|           C_ADDRESS|C_NATIONKEY|        C_PHONE|C_ACCTBAL|C_MKTSEGMENT|           C_COMMENT|O_ORDERKEY|O_CUSTKEY|O_ORDERSTATUS|O_TOTALPRICE|O_ORDERDATE|O_ORDERPRIORITY|        O_CLERK|O_SHIPPRIORITY|           O_COMMENT|\n",
      "+---------+------------------+--------------------+-----------+---------------+---------+------------+--------------------+----------+---------+-------------+------------+-----------+---------------+---------------+--------------+--------------------+\n",
      "|      370|Customer#000000370|          oyAPndV IN|         12|22-524-280-8721|  8982.79|   FURNITURE|ges. final packag...|         1|      370|            O|   172799.49| 1996-01-02|          5-LOW|Clerk#000000951|             0|nstructions sleep...|\n",
      "|      781|Customer#000000781|FQCAkyfV0 kL3,FNA...|         18|28-478-388-5881|  6403.62|   MACHINERY|ake blithely blit...|         2|      781|            O|    38426.09| 1996-12-01|       1-URGENT|Clerk#000000880|             0| foxes. pending a...|\n",
      "|     1234|Customer#000001234|B3OhbH0MRJE,F0Lc7...|          1|11-742-434-6436|  -982.32|   FURNITURE|y ironic instruct...|         3|     1234|            F|    205654.3| 1993-10-14|          5-LOW|Clerk#000000955|             0|sly final account...|\n",
      "|     1369|Customer#000001369|rXTwOzU0a2ak4Nj5L...|         10|20-232-617-7418|   498.77|  AUTOMOBILE|ong the ironic id...|         4|     1369|            O|    56000.91| 1995-10-11|          5-LOW|Clerk#000000124|             0|sits. slyly regul...|\n",
      "|      445|Customer#000000445|MX1UA0KUJzIGyWM p...|         20|30-849-846-6070|  8018.81|   FURNITURE|e ironic, special...|         5|      445|            F|   105367.67| 1994-07-30|          5-LOW|Clerk#000000925|             0|quickly. bold dep...|\n",
      "|      557|Customer#000000557|          Nt6FUuDR7v|         15|25-390-153-6699|  9559.04|    BUILDING|furiously pending...|         6|      557|            F|     45523.1| 1992-02-21|4-NOT SPECIFIED|Clerk#000000058|             0|ggle. special, fi...|\n",
      "|      392|Customer#000000392|          H7M6JObndO|         17|27-601-793-2507|  8492.33|    BUILDING|efully bold ideas...|         7|      392|            O|   271885.66| 1996-01-10|         2-HIGH|Clerk#000000470|             0|ly special requests |\n",
      "|     1301|Customer#000001301|oR0kHfL6GWhF VPD,...|         10|20-339-347-9046|  8966.63|   MACHINERY|egular asymptotes...|        32|     1301|            O|   198665.57| 1995-07-16|         2-HIGH|Clerk#000000616|             0|ise blithely bold...|\n",
      "|      670|Customer#000000670|         RJtcLv6Tjpx|          2|12-839-426-4266|  6738.93|    BUILDING|y unusual deposit...|        33|      670|            F|   146567.24| 1993-10-27|       3-MEDIUM|Clerk#000000409|             0|uriously. furious...|\n",
      "|      611|Customer#000000611|E1dtWGHE7NrLfnSKLPFU|         19|29-924-242-5243|  4272.43|   HOUSEHOLD|inst the slyly fi...|        34|      611|            O|    73315.48| 1998-07-21|       3-MEDIUM|Clerk#000000223|             0|ly final packages...|\n",
      "|     1276|Customer#000001276|c5UAVe71MPvmerPaf...|         16|26-809-582-2064|   -761.7|  AUTOMOBILE| the blithely reg...|        35|     1276|            O|   194641.93| 1995-10-23|4-NOT SPECIFIED|Clerk#000000259|             0|zzle. carefully e...|\n",
      "|     1153|Customer#000001153|SYG3KMj1fMh7GwvIZ...|          3|13-319-420-5160|  6244.03|   HOUSEHOLD|s. even packages ...|        36|     1153|            O|    42011.04| 1995-11-03|       1-URGENT|Clerk#000000358|             0| quick packages a...|\n",
      "|      862|Customer#000000862|zkaZ,iOp8t9MBK9T,...|          2|12-479-479-6941|  2338.92|   MACHINERY|yly regular foxes...|        37|      862|            F|   131896.49| 1992-06-03|       3-MEDIUM|Clerk#000000456|             0|kly regular pinto...|\n",
      "|     1249|Customer#000001249|x9ukZnNiUM5pBPXyE...|          7|17-866-269-1165|   448.49|    BUILDING| the ironic packa...|        38|     1249|            O|    71553.08| 1996-08-21|4-NOT SPECIFIED|Clerk#000000604|             0|haggle blithely. ...|\n",
      "|      818|Customer#000000818|CvQvKClYoh9lPjMng...|         20|30-943-141-5174|  -574.39|    BUILDING|yly. blithely fin...|        39|      818|            O|   326565.37| 1996-09-20|       3-MEDIUM|Clerk#000000659|             0|ole express, iron...|\n",
      "|      322|Customer#000000322|       bWRyCyjH5OfGX|         20|30-660-202-7517|  4489.98|   HOUSEHOLD|usual sauternes a...|        64|      322|            F|    35831.73| 1994-07-16|       3-MEDIUM|Clerk#000000661|             0|wake fluffily. so...|\n",
      "|      163|Customer#000000163|      OgrGcOnm4whd0f|         21|31-863-349-4121|  2948.61|   FURNITURE| nag furiously fu...|        65|      163|            P|    95469.44| 1995-03-18|       1-URGENT|Clerk#000000632|             0|ular requests are...|\n",
      "|     1292|Customer#000001292|QVr2XTDOMzWcLKHtN...|         21|31-966-407-1575|  5509.11|    BUILDING|haggle. special f...|        66|     1292|            F|   104190.66| 1994-01-20|          5-LOW|Clerk#000000743|             0|y pending request...|\n",
      "|      568|Customer#000000568|ZddVCnzeABTTBgV3G...|         13|23-603-795-8611|  1317.56|    BUILDING|gular decoys hagg...|        67|      568|            O|   182481.16| 1996-12-19|4-NOT SPECIFIED|Clerk#000000547|             0|symptotes haggle ...|\n",
      "|      286|Customer#000000286|    7 7uVDrpkWuozyEd|         22|32-274-308-4633|  -109.73|   HOUSEHOLD|ly special accoun...|        68|      286|            O|   301968.79| 1998-04-18|       3-MEDIUM|Clerk#000000440|             0| pinto beans slee...|\n",
      "+---------+------------------+--------------------+-----------+---------------+---------+------------+--------------------+----------+---------+-------------+------------+-----------+---------------+---------------+--------------+--------------------+\n",
      "only showing top 20 rows\n",
      "\n"
     ]
    }
   ],
   "source": [
    "joinDf= customerDf.join(ordersDf,customerDf.C_CUSTKEY==ordersDf.O_CUSTKEY,how='inner')\n",
    "joinDf.show()"
   ]
  },
  {
   "cell_type": "code",
   "execution_count": 57,
   "id": "6c813daf",
   "metadata": {},
   "outputs": [
    {
     "name": "stdout",
     "output_type": "stream",
     "text": [
      "+---------------+------------------+\n",
      "|        O_CLERK| sum(O_TOTALPRICE)|\n",
      "+---------------+------------------+\n",
      "|Clerk#000000024|        2078084.41|\n",
      "|Clerk#000000288|        1431028.03|\n",
      "|Clerk#000000236|        2571896.97|\n",
      "|Clerk#000000093|3388791.1500000004|\n",
      "|Clerk#000000124|        1683034.58|\n",
      "|Clerk#000000011|2032237.1699999995|\n",
      "|Clerk#000000114|1596777.3599999999|\n",
      "|Clerk#000000022|         1250757.7|\n",
      "|Clerk#000000474|1669808.3399999999|\n",
      "|Clerk#000000723| 923212.7899999999|\n",
      "|Clerk#000000903|2984974.0700000008|\n",
      "|Clerk#000000398|        1799587.31|\n",
      "|Clerk#000000744|         2078169.2|\n",
      "|Clerk#000000912|1728371.5500000005|\n",
      "|Clerk#000000644|         2357482.5|\n",
      "|Clerk#000000766|        1941942.28|\n",
      "|Clerk#000000674|         941649.11|\n",
      "|Clerk#000000821|2854880.0399999996|\n",
      "|Clerk#000000424|1509396.7800000003|\n",
      "|Clerk#000000087|        1396516.85|\n",
      "+---------------+------------------+\n",
      "only showing top 20 rows\n",
      "\n"
     ]
    }
   ],
   "source": [
    "grpdg=ordersDf.groupBy(\"O_CLERK\").sum(\"O_TOTALPRICE\")\n",
    "grpdg.show()"
   ]
  },
  {
   "cell_type": "code",
   "execution_count": null,
   "id": "92ce22e2",
   "metadata": {},
   "outputs": [],
   "source": []
  }
 ],
 "metadata": {
  "kernelspec": {
   "display_name": "Python 3 (ipykernel)",
   "language": "python",
   "name": "python3"
  },
  "language_info": {
   "codemirror_mode": {
    "name": "ipython",
    "version": 3
   },
   "file_extension": ".py",
   "mimetype": "text/x-python",
   "name": "python",
   "nbconvert_exporter": "python",
   "pygments_lexer": "ipython3",
   "version": "3.11.4"
  }
 },
 "nbformat": 4,
 "nbformat_minor": 5
}
